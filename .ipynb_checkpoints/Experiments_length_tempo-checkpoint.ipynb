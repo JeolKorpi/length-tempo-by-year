{
 "cells": [
  {
   "cell_type": "code",
   "execution_count": 1,
   "id": "c521e41d-2a59-4787-b39c-7fc378007617",
   "metadata": {},
   "outputs": [
    {
     "name": "stderr",
     "output_type": "stream",
     "text": [
      "Setting default log level to \"WARN\".\n",
      "To adjust logging level use sc.setLogLevel(newLevel). For SparkR, use setLogLevel(newLevel).\n",
      "24/03/05 10:52:09 WARN NativeCodeLoader: Unable to load native-hadoop library for your platform... using builtin-java classes where applicable\n",
      "/home/ubuntu/.local/lib/python3.8/site-packages/pyspark/sql/context.py:113: FutureWarning: Deprecated in 3.0.0. Use SparkSession.builder.getOrCreate() instead.\n",
      "  warnings.warn(\n"
     ]
    }
   ],
   "source": [
    "from pyspark import SparkConf, SparkContext\n",
    "from pyspark.sql import SparkSession, SQLContext\n",
    "from pyspark.sql.functions import col, avg, count, desc, floor, corr\n",
    "import numpy as np\n",
    "import time\n",
    "\n",
    "spark_session = SparkSession.builder\\\n",
    "        .master(\"spark://192.168.2.223:7077\") \\\n",
    "        .appName(\"Song Analysis with Decade Tempo\")\\\n",
    "        .config(\"spark.dynamicAllocation.enabled\", True)\\\n",
    "        .config(\"spark.dynamicAllocation.shuffleTracking.enabled\",True)\\\n",
    "        .config(\"spark.shuffle.service.enabled\", False)\\\n",
    "        .config(\"spark.dynamicAllocation.executorIdleTimeout\",\"300s\")\\\n",
    "        .config(\"spark.executor.cores\",1)\\\n",
    "        .config(\"spark.driver.port\",9999)\\\n",
    "        .config(\"spark.blockManager.port\",10005)\\\n",
    "        .getOrCreate()\n",
    "\n",
    "# RDD API\n",
    "sqlContext = SQLContext(spark_session.sparkContext) "
   ]
  },
  {
   "cell_type": "code",
   "execution_count": 2,
   "id": "73af8bdf-8629-4f49-9842-7bf85dcdfa30",
   "metadata": {},
   "outputs": [],
   "source": [
    "start_time = time.time()"
   ]
  },
  {
   "cell_type": "code",
   "execution_count": null,
   "id": "a99cb885-ef84-4257-ad5e-8c836bfe3fb2",
   "metadata": {},
   "outputs": [],
   "source": [
    "# Load the dataset\n",
    "df = sqlContext.read.csv('hdfs://9000/user/ubuntu/MillionSongSubset_aggregated_4GB.csv',\n",
    "                                       header='true', inferSchema='true').cache()\n",
    "\n",
    "df.show()"
   ]
  },
  {
   "cell_type": "code",
   "execution_count": null,
   "id": "c0cc3c1c-2f57-4ab1-9e31-72d6fb1228ee",
   "metadata": {},
   "outputs": [],
   "source": [
    "# Filter out rows with non-values or values <= 0 for Year, Tempo, and Duration\n",
    "df_filtered = df.filter((col(\"Year\") > 1970) & (col(\"Tempo\") > 0) & (col(\"Duration\") > 0))"
   ]
  },
  {
   "cell_type": "code",
   "execution_count": null,
   "id": "4c6e3cbd-8f5d-484b-8e50-60a4809eb0c7",
   "metadata": {},
   "outputs": [],
   "source": [
    "# Calculate decade and average Tempo by Decade\n",
    "df_with_decade = df_filtered.withColumn(\"Decade\", (floor(df_filtered[\"Year\"] / 10) * 10))\n",
    "df_decade_tempo = df_with_decade.groupBy(\"Decade\").agg(\n",
    "    avg(\"Tempo\").alias(\"average_tempo\"), \n",
    "    avg(\"Duration\").alias(\"average_duration\"), \n",
    "    count(\"*\").alias(\"songs_count\")).orderBy(\"Decade\")"
   ]
  },
  {
   "cell_type": "code",
   "execution_count": null,
   "id": "584b368d-cc0f-4cad-b357-7cc76c0e7b25",
   "metadata": {},
   "outputs": [],
   "source": [
    "df_nondecade_tempo = df_with_decade.groupBy(\"Year\").agg(\n",
    "    avg(\"Tempo\").alias(\"average_tempo\"), \n",
    "    avg(\"Duration\").alias(\"average_duration\"), \n",
    "    count(\"*\").alias(\"songs_count\")).orderBy(\"Year\")\n",
    "\n",
    "df_nondecade_tempo_filtered = df_nondecade_tempo.filter(df_nondecade_tempo[\"songs_count\"] > 5).orderBy(\"Year\")"
   ]
  },
  {
   "cell_type": "code",
   "execution_count": null,
   "id": "cb0ef8cc-2153-436c-bb78-7789aefa59ee",
   "metadata": {},
   "outputs": [],
   "source": [
    "df_decade_tempo.show()"
   ]
  },
  {
   "cell_type": "code",
   "execution_count": null,
   "id": "5a1ce199-a673-458c-8de2-4fc59b8c3aa8",
   "metadata": {},
   "outputs": [],
   "source": [
    "df_nondecade_tempo_filtered.show()"
   ]
  },
  {
   "cell_type": "code",
   "execution_count": null,
   "id": "014de104-b0b8-4a6c-b9e5-beff0319845f",
   "metadata": {},
   "outputs": [],
   "source": [
    "correlation_df = df_filtered.select(\n",
    "    corr(\"Tempo\", \"Year\").alias(\"tempo_year_corr\"),\n",
    "    corr(\"Duration\", \"Year\").alias(\"duration_year_corr\")\n",
    ")\n",
    "\n",
    "correlation_df.show()"
   ]
  },
  {
   "cell_type": "code",
   "execution_count": null,
   "id": "37058fe9-7cd7-413e-905c-646893e1c6f3",
   "metadata": {},
   "outputs": [],
   "source": [
    "correlation_decade_df = df_with_decade.select(\n",
    "    corr(\"Tempo\", \"Decade\").alias(\"tempo_decade_corr\"),\n",
    "    corr(\"Duration\", \"Decade\").alias(\"duration_decade_corr\")\n",
    ")\n",
    "\n",
    "correlation_decade_df.show()"
   ]
  },
  {
   "cell_type": "code",
   "execution_count": null,
   "id": "d3653bb8-e86d-4fa3-8c6f-5a351fe016a0",
   "metadata": {},
   "outputs": [],
   "source": [
    "print(\"Time taken: \", time.time() - start_time)"
   ]
  },
  {
   "cell_type": "code",
   "execution_count": null,
   "id": "7107df4f-5835-47ec-ba8a-0f3986ec4e57",
   "metadata": {},
   "outputs": [],
   "source": [
    "spark_session.stop()"
   ]
  },
  {
   "cell_type": "code",
   "execution_count": null,
   "id": "144e1409-18dd-461e-93e0-f2126e8cefd0",
   "metadata": {},
   "outputs": [],
   "source": []
  }
 ],
 "metadata": {
  "kernelspec": {
   "display_name": "Python 3 (ipykernel)",
   "language": "python",
   "name": "python3"
  },
  "language_info": {
   "codemirror_mode": {
    "name": "ipython",
    "version": 3
   },
   "file_extension": ".py",
   "mimetype": "text/x-python",
   "name": "python",
   "nbconvert_exporter": "python",
   "pygments_lexer": "ipython3",
   "version": "3.8.10"
  }
 },
 "nbformat": 4,
 "nbformat_minor": 5
}
