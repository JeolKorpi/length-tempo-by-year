{
 "cells": [
  {
   "cell_type": "code",
   "execution_count": 1,
   "metadata": {},
   "outputs": [
    {
     "name": "stderr",
     "output_type": "stream",
     "text": [
      "Setting default log level to \"WARN\".\n",
      "To adjust logging level use sc.setLogLevel(newLevel). For SparkR, use setLogLevel(newLevel).\n",
      "24/03/05 07:35:48 WARN NativeCodeLoader: Unable to load native-hadoop library for your platform... using builtin-java classes where applicable\n",
      "/home/ubuntu/.local/lib/python3.8/site-packages/pyspark/sql/context.py:113: FutureWarning: Deprecated in 3.0.0. Use SparkSession.builder.getOrCreate() instead.\n",
      "  warnings.warn(\n"
     ]
    }
   ],
   "source": [
    "from pyspark import SparkConf, SparkContext\n",
    "from pyspark.sql import SparkSession, SQLContext\n",
    "from pyspark.sql.functions import col, avg, count, desc, floor, corr\n",
    "import numpy as np\n",
    "import time\n",
    "\n",
    "spark_session = SparkSession.builder\\\n",
    "        .master(\"spark://192.168.2.223:7077\") \\\n",
    "        .appName(\"Song Analysis with Decade Tempo\")\\\n",
    "        .config(\"spark.dynamicAllocation.enabled\", True)\\\n",
    "        .config(\"spark.dynamicAllocation.shuffleTracking.enabled\",True)\\\n",
    "        .config(\"spark.shuffle.service.enabled\", False)\\\n",
    "        .config(\"spark.dynamicAllocation.executorIdleTimeout\",\"300s\")\\\n",
    "        .config(\"spark.executor.cores\",1)\\\n",
    "        .config(\"spark.driver.port\",9999)\\\n",
    "        .config(\"spark.blockManager.port\",10005)\\\n",
    "        .getOrCreate()\n",
    "\n",
    "# RDD API\n",
    "sqlContext = SQLContext(spark_session.sparkContext)"
   ]
  },
  {
   "cell_type": "code",
   "execution_count": 2,
   "metadata": {},
   "outputs": [],
   "source": [
    "start_time = time.time()"
   ]
  },
  {
   "cell_type": "code",
   "execution_count": 3,
   "metadata": {},
   "outputs": [
    {
     "name": "stderr",
     "output_type": "stream",
     "text": [
      "                                                                                \r"
     ]
    },
    {
     "name": "stdout",
     "output_type": "stream",
     "text": [
      "+----+-------+---------+\n",
      "|Year|  Tempo| Duration|\n",
      "+----+-------+---------+\n",
      "|2008|124.059|148.74077|\n",
      "|2004| 80.084|252.99546|\n",
      "|2007|  77.15|163.63057|\n",
      "|1982| 92.897|  216.842|\n",
      "|1998| 86.981|312.99873|\n",
      "|2004|157.715|218.90567|\n",
      "|2005|146.331|580.70159|\n",
      "|2004| 84.992|283.48036|\n",
      "|2001| 99.959| 135.8624|\n",
      "|1982|104.989|146.33751|\n",
      "|2000|105.095|208.95302|\n",
      "|1981|100.042|154.93179|\n",
      "|2004| 80.893|146.80771|\n",
      "|1973|  110.1|199.96689|\n",
      "|2007| 92.971|319.84281|\n",
      "|2008|117.936|258.16771|\n",
      "|1963|121.896|207.35955|\n",
      "|2001| 152.99|258.29832|\n",
      "|2004|104.465| 158.1971|\n",
      "|2004|138.512|461.71383|\n",
      "+----+-------+---------+\n",
      "only showing top 20 rows\n",
      "\n"
     ]
    }
   ],
   "source": [
    "# Load the dataset\n",
    "df = sqlContext.read.csv('/home/ubuntu/length-tempo-by-year/MillionSongSubset_aggregated.csv',\n",
    "                                       header='true', inferSchema='true').cache()\n",
    "\n",
    "df.show()"
   ]
  },
  {
   "cell_type": "code",
   "execution_count": 4,
   "metadata": {},
   "outputs": [],
   "source": [
    "# Filter out rows with non-values or values <= 0 for Year, Tempo, and Duration\n",
    "df_filtered = df.filter((col(\"Year\") > 1970) & (col(\"Tempo\") > 0) & (col(\"Duration\") > 0))"
   ]
  },
  {
   "cell_type": "code",
   "execution_count": 5,
   "metadata": {},
   "outputs": [],
   "source": [
    "# Calculate decade and average Tempo by Decade\n",
    "df_with_decade = df_filtered.withColumn(\"Decade\", (floor(df_filtered[\"Year\"] / 10) * 10))\n",
    "df_decade_tempo = df_with_decade.groupBy(\"Decade\").agg(\n",
    "    avg(\"Tempo\").alias(\"average_tempo\"), \n",
    "    avg(\"Duration\").alias(\"average_duration\"), \n",
    "    count(\"*\").alias(\"songs_count\")).orderBy(\"Decade\")\n",
    "\n",
    "df_nondecade_tempo = df_with_decade.groupBy(\"Year\").agg(\n",
    "    avg(\"Tempo\").alias(\"average_tempo\"), \n",
    "    avg(\"Duration\").alias(\"average_duration\"), \n",
    "    count(\"*\").alias(\"songs_count\")).orderBy(\"Year\")\n",
    "\n",
    "df_nondecade_tempo_filtered = df_nondecade_tempo.filter(df_nondecade_tempo[\"songs_count\"] > 5).orderBy(\"Year\")"
   ]
  },
  {
   "cell_type": "code",
   "execution_count": 6,
   "metadata": {},
   "outputs": [
    {
     "name": "stdout",
     "output_type": "stream",
     "text": [
      "+------+------------------+------------------+-----------+\n",
      "|Decade|     average_tempo|  average_duration|songs_count|\n",
      "+------+------------------+------------------+-----------+\n",
      "|  1970|131.70000444444437|250.65361626666666|        225|\n",
      "|  1980|126.86822425629293|235.72452128146452|        437|\n",
      "|  1990| 124.6324845961699|242.58668049958308|       1201|\n",
      "|  2000|125.99748443042954|239.68609247930607|       2537|\n",
      "|  2010|118.92348437499999| 238.0424034375001|         64|\n",
      "+------+------------------+------------------+-----------+\n",
      "\n"
     ]
    }
   ],
   "source": [
    "df_decade_tempo.show()"
   ]
  },
  {
   "cell_type": "code",
   "execution_count": 7,
   "metadata": {},
   "outputs": [
    {
     "name": "stdout",
     "output_type": "stream",
     "text": [
      "+----+------------------+------------------+-----------+\n",
      "|Year|     average_tempo|  average_duration|songs_count|\n",
      "+----+------------------+------------------+-----------+\n",
      "|1971|         136.16196|259.55428919999997|         25|\n",
      "|1972|129.17204166666667|238.54539749999995|         24|\n",
      "|1973|116.35612499999998|294.16444416666667|         24|\n",
      "|1974|125.08609090909091| 239.4913463636364|         22|\n",
      "|1975|125.41183333333332| 277.4406354166667|         24|\n",
      "|1976|137.26139999999998|210.99404933333332|         15|\n",
      "|1977|139.33685714285716|255.30692800000003|         35|\n",
      "|1978|134.38385000000002|247.85456749999997|         20|\n",
      "|1979|137.51694444444448| 226.0566886111111|         36|\n",
      "|1980|126.89337499999999|210.43873062499998|         32|\n",
      "|1981|131.61677142857144| 217.7055291428571|         35|\n",
      "|1982|125.14521999999995|251.23742419999996|         50|\n",
      "|1983| 126.1436808510638|237.46428063829794|         47|\n",
      "|1984|127.95625000000003|         239.31873|         32|\n",
      "|1985|132.86585294117648|242.61716941176468|         34|\n",
      "|1986|129.97883333333337|238.85306166666658|         36|\n",
      "|1987|124.62895454545455|246.30455568181816|         44|\n",
      "|1988|124.96954098360656|221.76072409836064|         61|\n",
      "|1989|124.09290909090907|243.40140212121221|         66|\n",
      "|1990|123.05484722222224|228.72988680555557|         72|\n",
      "+----+------------------+------------------+-----------+\n",
      "only showing top 20 rows\n",
      "\n"
     ]
    }
   ],
   "source": [
    "df_nondecade_tempo_filtered.show()"
   ]
  },
  {
   "cell_type": "code",
   "execution_count": 8,
   "metadata": {},
   "outputs": [
    {
     "name": "stdout",
     "output_type": "stream",
     "text": [
      "+--------------------+--------------------+\n",
      "|     tempo_year_corr|  duration_year_corr|\n",
      "+--------------------+--------------------+\n",
      "|-0.02507322891847...|-0.01188938532914...|\n",
      "+--------------------+--------------------+\n",
      "\n"
     ]
    }
   ],
   "source": [
    "correlation_df = df_filtered.select(\n",
    "    corr(\"Tempo\", \"Year\").alias(\"tempo_year_corr\"),\n",
    "    corr(\"Duration\", \"Year\").alias(\"duration_year_corr\")\n",
    ")\n",
    "\n",
    "correlation_df.show()"
   ]
  },
  {
   "cell_type": "code",
   "execution_count": 9,
   "metadata": {},
   "outputs": [
    {
     "name": "stdout",
     "output_type": "stream",
     "text": [
      "+--------------------+--------------------+\n",
      "|   tempo_decade_corr|duration_decade_corr|\n",
      "+--------------------+--------------------+\n",
      "|-0.02702604138344...|-0.01303098492627...|\n",
      "+--------------------+--------------------+\n",
      "\n"
     ]
    }
   ],
   "source": [
    "correlation_decade_df = df_with_decade.select(\n",
    "    corr(\"Tempo\", \"Decade\").alias(\"tempo_decade_corr\"),\n",
    "    corr(\"Duration\", \"Decade\").alias(\"duration_decade_corr\")\n",
    ")\n",
    "\n",
    "correlation_decade_df.show()"
   ]
  },
  {
   "cell_type": "code",
   "execution_count": 10,
   "metadata": {},
   "outputs": [
    {
     "name": "stdout",
     "output_type": "stream",
     "text": [
      "Time taken:  14.56863522529602\n"
     ]
    }
   ],
   "source": [
    "print(\"Time taken: \", time.time() - start_time)"
   ]
  },
  {
   "cell_type": "code",
   "execution_count": 11,
   "metadata": {},
   "outputs": [],
   "source": [
    "# release the cores for another application!\n",
    "spark_session.stop()"
   ]
  }
 ],
 "metadata": {
  "kernelspec": {
   "display_name": "Python 3 (ipykernel)",
   "language": "python",
   "name": "python3"
  },
  "language_info": {
   "codemirror_mode": {
    "name": "ipython",
    "version": 3
   },
   "file_extension": ".py",
   "mimetype": "text/x-python",
   "name": "python",
   "nbconvert_exporter": "python",
   "pygments_lexer": "ipython3",
   "version": "3.8.10"
  },
  "toc": {
   "base_numbering": 1,
   "nav_menu": {},
   "number_sections": true,
   "sideBar": true,
   "skip_h1_title": false,
   "title_cell": "Table of Contents",
   "title_sidebar": "Contents",
   "toc_cell": false,
   "toc_position": {},
   "toc_section_display": true,
   "toc_window_display": false
  }
 },
 "nbformat": 4,
 "nbformat_minor": 4
}
