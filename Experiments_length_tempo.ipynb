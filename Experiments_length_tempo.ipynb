{
 "cells": [
  {
   "cell_type": "code",
   "execution_count": 1,
   "id": "c521e41d-2a59-4787-b39c-7fc378007617",
   "metadata": {},
   "outputs": [
    {
     "name": "stderr",
     "output_type": "stream",
     "text": [
      "Setting default log level to \"WARN\".\n",
      "To adjust logging level use sc.setLogLevel(newLevel). For SparkR, use setLogLevel(newLevel).\n",
      "24/03/05 14:44:56 WARN NativeCodeLoader: Unable to load native-hadoop library for your platform... using builtin-java classes where applicable\n",
      "/home/ubuntu/.local/lib/python3.8/site-packages/pyspark/sql/context.py:113: FutureWarning: Deprecated in 3.0.0. Use SparkSession.builder.getOrCreate() instead.\n",
      "  warnings.warn(\n"
     ]
    }
   ],
   "source": [
    "from pyspark import SparkConf, SparkContext\n",
    "from pyspark.sql import SparkSession, SQLContext\n",
    "from pyspark.sql.functions import col, avg, count, desc, floor, corr\n",
    "import numpy as np\n",
    "import time\n",
    "\n",
    "spark_session = SparkSession.builder\\\n",
    "        .master(\"spark://192.168.2.223:7077\") \\\n",
    "        .appName(\"Song Analysis with Decade Tempo\")\\\n",
    "        .config(\"spark.dynamicAllocation.enabled\", True)\\\n",
    "        .config(\"spark.dynamicAllocation.shuffleTracking.enabled\",True)\\\n",
    "        .config(\"spark.shuffle.service.enabled\", False)\\\n",
    "        .config(\"spark.dynamicAllocation.executorIdleTimeout\",\"300s\")\\\n",
    "        .config(\"spark.executor.cores\",2)\\\n",
    "        .config(\"spark.driver.port\",9999)\\\n",
    "        .config(\"spark.blockManager.port\",10005)\\\n",
    "        .getOrCreate()\n",
    "\n",
    "# RDD API\n",
    "sqlContext = SQLContext(spark_session.sparkContext) "
   ]
  },
  {
   "cell_type": "code",
   "execution_count": 2,
   "id": "73af8bdf-8629-4f49-9842-7bf85dcdfa30",
   "metadata": {},
   "outputs": [],
   "source": [
    "start_time = time.time()"
   ]
  },
  {
   "cell_type": "code",
   "execution_count": 3,
   "id": "a99cb885-ef84-4257-ad5e-8c836bfe3fb2",
   "metadata": {},
   "outputs": [
    {
     "name": "stderr",
     "output_type": "stream",
     "text": [
      "                                                                                \r"
     ]
    },
    {
     "name": "stdout",
     "output_type": "stream",
     "text": [
      "+----+-------+---------+\n",
      "|Year|  Tempo| Duration|\n",
      "+----+-------+---------+\n",
      "|2008|124.059|148.74077|\n",
      "|2004| 80.084|252.99546|\n",
      "|2007|  77.15|163.63057|\n",
      "|1982| 92.897|  216.842|\n",
      "|1998| 86.981|312.99873|\n",
      "|2004|157.715|218.90567|\n",
      "|2005|146.331|580.70159|\n",
      "|2004| 84.992|283.48036|\n",
      "|2001| 99.959| 135.8624|\n",
      "|1982|104.989|146.33751|\n",
      "|2000|105.095|208.95302|\n",
      "|1981|100.042|154.93179|\n",
      "|2004| 80.893|146.80771|\n",
      "|1973|  110.1|199.96689|\n",
      "|2007| 92.971|319.84281|\n",
      "|2008|117.936|258.16771|\n",
      "|1963|121.896|207.35955|\n",
      "|2001| 152.99|258.29832|\n",
      "|2004|104.465| 158.1971|\n",
      "|2004|138.512|461.71383|\n",
      "+----+-------+---------+\n",
      "only showing top 20 rows\n",
      "\n"
     ]
    }
   ],
   "source": [
    "# Load the dataset\n",
    "df = sqlContext.read.csv('hdfs://localhost:9000/user/ubuntu/MillionSongSubset_aggregated_2GB.csv',\n",
    "                                       header='true', inferSchema='true').cache()\n",
    "\n",
    "df.show()"
   ]
  },
  {
   "cell_type": "code",
   "execution_count": 4,
   "id": "c0cc3c1c-2f57-4ab1-9e31-72d6fb1228ee",
   "metadata": {},
   "outputs": [],
   "source": [
    "# Filter out rows with non-values or values <= 0 for Year, Tempo, and Duration\n",
    "df_filtered = df.filter((col(\"Year\") > 1970) & (col(\"Tempo\") > 0) & (col(\"Duration\") > 0))"
   ]
  },
  {
   "cell_type": "code",
   "execution_count": 5,
   "id": "4c6e3cbd-8f5d-484b-8e50-60a4809eb0c7",
   "metadata": {},
   "outputs": [],
   "source": [
    "# Calculate decade and average Tempo by Decade\n",
    "df_with_decade = df_filtered.withColumn(\"Decade\", (floor(df_filtered[\"Year\"] / 10) * 10))\n",
    "df_decade_tempo = df_with_decade.groupBy(\"Decade\").agg(\n",
    "    avg(\"Tempo\").alias(\"average_tempo\"), \n",
    "    avg(\"Duration\").alias(\"average_duration\"), \n",
    "    count(\"*\").alias(\"songs_count\")).orderBy(\"Decade\")"
   ]
  },
  {
   "cell_type": "code",
   "execution_count": 6,
   "id": "584b368d-cc0f-4cad-b357-7cc76c0e7b25",
   "metadata": {},
   "outputs": [],
   "source": [
    "df_nondecade_tempo = df_with_decade.groupBy(\"Year\").agg(\n",
    "    avg(\"Tempo\").alias(\"average_tempo\"), \n",
    "    avg(\"Duration\").alias(\"average_duration\"), \n",
    "    count(\"*\").alias(\"songs_count\")).orderBy(\"Year\")\n",
    "\n",
    "df_nondecade_tempo_filtered = df_nondecade_tempo.filter(df_nondecade_tempo[\"songs_count\"] > 5).orderBy(\"Year\")"
   ]
  },
  {
   "cell_type": "code",
   "execution_count": 7,
   "id": "cb0ef8cc-2153-436c-bb78-7789aefa59ee",
   "metadata": {},
   "outputs": [
    {
     "name": "stderr",
     "output_type": "stream",
     "text": [
      "[Stage 4:==============================================>          (14 + 3) / 17]\r"
     ]
    },
    {
     "name": "stdout",
     "output_type": "stream",
     "text": [
      "+------+------------------+------------------+-----------+\n",
      "|Decade|     average_tempo|  average_duration|songs_count|\n",
      "+------+------------------+------------------+-----------+\n",
      "|  1970|131.70000444444665| 250.6536162666558|    4610025|\n",
      "|  1980|126.86822425620393|235.72452128144687|    8953693|\n",
      "|  1990|124.63248459611607|242.58668049975944|   24607289|\n",
      "|  2000|125.99748443056102| 239.6860924792395|   51980593|\n",
      "|  2010|118.92348437499787| 238.0424034375433|    1311296|\n",
      "+------+------------------+------------------+-----------+\n",
      "\n"
     ]
    },
    {
     "name": "stderr",
     "output_type": "stream",
     "text": [
      "                                                                                \r"
     ]
    }
   ],
   "source": [
    "df_decade_tempo.show()"
   ]
  },
  {
   "cell_type": "code",
   "execution_count": 8,
   "id": "5a1ce199-a673-458c-8de2-4fc59b8c3aa8",
   "metadata": {},
   "outputs": [
    {
     "name": "stderr",
     "output_type": "stream",
     "text": [
      "[Stage 7:===========================>                              (8 + 8) / 17]\r"
     ]
    },
    {
     "name": "stdout",
     "output_type": "stream",
     "text": [
      "+----+------------------+------------------+-----------+\n",
      "|Year|     average_tempo|  average_duration|songs_count|\n",
      "+----+------------------+------------------+-----------+\n",
      "|1971|136.16195999999766|259.55428920000645|     512225|\n",
      "|1972|129.17204166668014|238.54539749999654|     491736|\n",
      "|1973|116.35612500000175| 294.1644441666234|     491736|\n",
      "|1974|125.08609090909557| 239.4913463636304|     450758|\n",
      "|1975|125.41183333332964|  277.440635416734|     491736|\n",
      "|1976|137.26140000000402|210.99404933333955|     307335|\n",
      "|1977|139.33685714286017| 255.3069279999802|     717115|\n",
      "|1978| 134.3838499999925| 247.8545675000161|     409780|\n",
      "|1979|137.51694444442083|226.05668861112719|     737604|\n",
      "|1980|126.89337500000521|210.43873062496715|     655648|\n",
      "|1981| 131.6167714285617|217.70552914285332|     717115|\n",
      "|1982|125.14521999998475| 251.2374242000137|    1024450|\n",
      "|1983|126.14368085104255|237.46428063834134|     962983|\n",
      "|1984|127.95624999999713|239.31872999999382|     655648|\n",
      "|1985|132.86585294118507|242.61716941180217|     696626|\n",
      "|1986|129.97883333336486|238.85306166666138|     737604|\n",
      "|1987|124.62895454545722|246.30455568178803|     901516|\n",
      "|1988|124.96954098361297|221.76072409837903|    1249829|\n",
      "|1989| 124.0929090909064| 243.4014021212237|    1352274|\n",
      "|1990|123.05484722221489|228.72988680558854|    1475208|\n",
      "+----+------------------+------------------+-----------+\n",
      "only showing top 20 rows\n",
      "\n"
     ]
    },
    {
     "name": "stderr",
     "output_type": "stream",
     "text": [
      "                                                                                \r"
     ]
    }
   ],
   "source": [
    "df_nondecade_tempo_filtered.show()"
   ]
  },
  {
   "cell_type": "code",
   "execution_count": 9,
   "id": "014de104-b0b8-4a6c-b9e5-beff0319845f",
   "metadata": {},
   "outputs": [
    {
     "name": "stderr",
     "output_type": "stream",
     "text": [
      "[Stage 10:====================================================>   (16 + 1) / 17]\r"
     ]
    },
    {
     "name": "stdout",
     "output_type": "stream",
     "text": [
      "+--------------------+--------------------+\n",
      "|     tempo_year_corr|  duration_year_corr|\n",
      "+--------------------+--------------------+\n",
      "|-0.02507322891847...|-0.01188938532914...|\n",
      "+--------------------+--------------------+\n",
      "\n"
     ]
    },
    {
     "name": "stderr",
     "output_type": "stream",
     "text": [
      "                                                                                \r"
     ]
    }
   ],
   "source": [
    "correlation_df = df_filtered.select(\n",
    "    corr(\"Tempo\", \"Year\").alias(\"tempo_year_corr\"),\n",
    "    corr(\"Duration\", \"Year\").alias(\"duration_year_corr\")\n",
    ")\n",
    "\n",
    "correlation_df.show()"
   ]
  },
  {
   "cell_type": "code",
   "execution_count": 10,
   "id": "37058fe9-7cd7-413e-905c-646893e1c6f3",
   "metadata": {},
   "outputs": [
    {
     "name": "stderr",
     "output_type": "stream",
     "text": [
      "[Stage 13:====================================>                   (11 + 6) / 17]\r"
     ]
    },
    {
     "name": "stdout",
     "output_type": "stream",
     "text": [
      "+--------------------+--------------------+\n",
      "|   tempo_decade_corr|duration_decade_corr|\n",
      "+--------------------+--------------------+\n",
      "|-0.02702604138343866|-0.01303098492626...|\n",
      "+--------------------+--------------------+\n",
      "\n"
     ]
    },
    {
     "name": "stderr",
     "output_type": "stream",
     "text": [
      "                                                                                \r"
     ]
    }
   ],
   "source": [
    "correlation_decade_df = df_with_decade.select(\n",
    "    corr(\"Tempo\", \"Decade\").alias(\"tempo_decade_corr\"),\n",
    "    corr(\"Duration\", \"Decade\").alias(\"duration_decade_corr\")\n",
    ")\n",
    "\n",
    "correlation_decade_df.show()"
   ]
  },
  {
   "cell_type": "code",
   "execution_count": 11,
   "id": "d3653bb8-e86d-4fa3-8c6f-5a351fe016a0",
   "metadata": {},
   "outputs": [
    {
     "name": "stdout",
     "output_type": "stream",
     "text": [
      "Time taken:  75.46774959564209\n"
     ]
    }
   ],
   "source": [
    "print(\"Time taken: \", time.time() - start_time)"
   ]
  },
  {
   "cell_type": "code",
   "execution_count": 12,
   "id": "7107df4f-5835-47ec-ba8a-0f3986ec4e57",
   "metadata": {},
   "outputs": [],
   "source": [
    "spark_session.stop()"
   ]
  },
  {
   "cell_type": "code",
   "execution_count": null,
   "id": "144e1409-18dd-461e-93e0-f2126e8cefd0",
   "metadata": {},
   "outputs": [],
   "source": []
  }
 ],
 "metadata": {
  "kernelspec": {
   "display_name": "Python 3 (ipykernel)",
   "language": "python",
   "name": "python3"
  },
  "language_info": {
   "codemirror_mode": {
    "name": "ipython",
    "version": 3
   },
   "file_extension": ".py",
   "mimetype": "text/x-python",
   "name": "python",
   "nbconvert_exporter": "python",
   "pygments_lexer": "ipython3",
   "version": "3.8.10"
  }
 },
 "nbformat": 4,
 "nbformat_minor": 5
}
